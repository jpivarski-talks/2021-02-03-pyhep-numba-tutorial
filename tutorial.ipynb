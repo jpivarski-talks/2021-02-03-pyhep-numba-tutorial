{
 "cells": [
  {
   "cell_type": "markdown",
   "metadata": {},
   "source": [
    "# PyHEP Numba tutorial on February 3, 2021\n",
    "\n",
    "## Simple stuff\n",
    "\n",
    "Even if you've used Numba before, let's start with the basics.\n",
    "\n",
    "In fact, let's start with NumPy itself.\n",
    "\n",
    "### NumPy"
   ]
  },
  {
   "cell_type": "code",
   "execution_count": 1,
   "metadata": {},
   "outputs": [],
   "source": [
    "import numpy as np"
   ]
  },
  {
   "cell_type": "markdown",
   "metadata": {},
   "source": [
    "NumPy accelerates Python code by replacing loops in Python's virtual machine (with type-checks at runtime) with precompiled loops that transform arrays into arrays."
   ]
  },
  {
   "cell_type": "code",
   "execution_count": 2,
   "metadata": {},
   "outputs": [
    {
     "data": {
      "text/plain": [
       "array([     0,      1,      2, ..., 999997, 999998, 999999])"
      ]
     },
     "execution_count": 2,
     "metadata": {},
     "output_type": "execute_result"
    }
   ],
   "source": [
    "data = np.arange(1000000)\n",
    "data"
   ]
  },
  {
   "cell_type": "code",
   "execution_count": 3,
   "metadata": {},
   "outputs": [
    {
     "name": "stdout",
     "output_type": "stream",
     "text": [
      "346 ms ± 20.7 ms per loop (mean ± std. dev. of 7 runs, 1 loop each)\n"
     ]
    }
   ],
   "source": [
    "%%timeit\n",
    "\n",
    "output = np.empty(len(data))\n",
    "\n",
    "for i, x in enumerate(data):\n",
    "    output[i] = x**2"
   ]
  },
  {
   "cell_type": "code",
   "execution_count": 4,
   "metadata": {},
   "outputs": [
    {
     "name": "stdout",
     "output_type": "stream",
     "text": [
      "695 µs ± 8.21 µs per loop (mean ± std. dev. of 7 runs, 1000 loops each)\n"
     ]
    }
   ],
   "source": [
    "%%timeit\n",
    "\n",
    "output = data**2"
   ]
  },
  {
   "cell_type": "markdown",
   "metadata": {},
   "source": [
    "But if you have to compute a complex formula, NumPy would have to _make an array for each intermediate step_.\n",
    "\n",
    "(There are tricks for circumventing this, but we won't get into that.)"
   ]
  },
  {
   "cell_type": "code",
   "execution_count": 5,
   "metadata": {},
   "outputs": [],
   "source": [
    "energy = np.random.normal(100, 10, 1000000)\n",
    "px = np.random.normal(0, 10, 1000000)\n",
    "py = np.random.normal(0, 10, 1000000)\n",
    "pz = np.random.normal(0, 10, 1000000)"
   ]
  },
  {
   "cell_type": "code",
   "execution_count": 6,
   "metadata": {},
   "outputs": [
    {
     "name": "stdout",
     "output_type": "stream",
     "text": [
      "6.56 ms ± 498 µs per loop (mean ± std. dev. of 7 runs, 100 loops each)\n"
     ]
    }
   ],
   "source": [
    "%%timeit\n",
    "\n",
    "mass = np.sqrt(energy**2 - px**2 - py**2 - pz**2)"
   ]
  },
  {
   "cell_type": "markdown",
   "metadata": {},
   "source": [
    "The above is equivalent to"
   ]
  },
  {
   "cell_type": "code",
   "execution_count": 7,
   "metadata": {},
   "outputs": [
    {
     "name": "stdout",
     "output_type": "stream",
     "text": [
      "8.02 ms ± 403 µs per loop (mean ± std. dev. of 7 runs, 100 loops each)\n"
     ]
    }
   ],
   "source": [
    "%%timeit\n",
    "\n",
    "tmp1 = energy**2\n",
    "tmp2 = px**2\n",
    "tmp3 = py**2\n",
    "tmp4 = pz**2\n",
    "tmp5 = tmp1 - tmp2\n",
    "tmp6 = tmp5 - tmp3\n",
    "tmp7 = tmp6 - tmp4\n",
    "mass = np.sqrt(tmp7)"
   ]
  },
  {
   "cell_type": "markdown",
   "metadata": {},
   "source": [
    "### Numba\n",
    "\n",
    "(I always mistype \"numba\" as \"numpy\"...)"
   ]
  },
  {
   "cell_type": "code",
   "execution_count": 8,
   "metadata": {},
   "outputs": [],
   "source": [
    "import numba as nb"
   ]
  },
  {
   "cell_type": "markdown",
   "metadata": {},
   "source": [
    "Numba lets us compile a function to compute a whole formula in one step.\n",
    "\n",
    "```python\n",
    "@nb.jit\n",
    "```\n",
    "\n",
    "means \"JIT-compile\" and\n",
    "\n",
    "```python\n",
    "@nb.njit\n",
    "```\n",
    "\n",
    "means \"really JIT-compile\" because the original has a fallback mode that's getting deprecated. If we're using Numba at all, we don't want it to fall back to ordinary Python."
   ]
  },
  {
   "cell_type": "code",
   "execution_count": 9,
   "metadata": {},
   "outputs": [],
   "source": [
    "@nb.njit\n",
    "def compute_mass(energy, px, py, pz):\n",
    "    mass = np.empty(len(energy))\n",
    "    for i in range(len(energy)):\n",
    "        mass[i] = np.sqrt(energy[i]**2 - px[i]**2 - py[i]**2 - pz[i]**2)\n",
    "    return mass"
   ]
  },
  {
   "cell_type": "markdown",
   "metadata": {},
   "source": [
    "The `compute_mass` function is now \"ready to be compiled.\" It will be compiled when we give it arguments, so that it can propagate types."
   ]
  },
  {
   "cell_type": "code",
   "execution_count": 10,
   "metadata": {},
   "outputs": [
    {
     "data": {
      "text/plain": [
       "array([102.52544721,  99.6333991 , 109.71246135, ...,  86.76466324,\n",
       "        96.45253913,  99.89977107])"
      ]
     },
     "execution_count": 10,
     "metadata": {},
     "output_type": "execute_result"
    }
   ],
   "source": [
    "compute_mass(energy, px, py, pz)"
   ]
  },
  {
   "cell_type": "code",
   "execution_count": 11,
   "metadata": {},
   "outputs": [
    {
     "name": "stdout",
     "output_type": "stream",
     "text": [
      "2.7 ms ± 179 µs per loop (mean ± std. dev. of 7 runs, 100 loops each)\n"
     ]
    }
   ],
   "source": [
    "%%timeit\n",
    "\n",
    "mass = compute_mass(energy, px, py, pz)"
   ]
  },
  {
   "cell_type": "markdown",
   "metadata": {},
   "source": [
    "_(Note to self: show `fastmath` and `parallel`.)_"
   ]
  },
  {
   "cell_type": "markdown",
   "metadata": {},
   "source": [
    "## Numba performance mistakes\n",
    "\n",
    "What's wrong with the following?"
   ]
  },
  {
   "cell_type": "code",
   "execution_count": 12,
   "metadata": {},
   "outputs": [
    {
     "data": {
      "text/plain": [
       "102.52544721062226"
      ]
     },
     "execution_count": 12,
     "metadata": {},
     "output_type": "execute_result"
    }
   ],
   "source": [
    "@nb.njit\n",
    "def compute_mass_i(energy_i, px_i, py_i, pz_i):\n",
    "    return np.sqrt(energy_i**2 - px_i**2 - py_i**2 - pz_i**2)\n",
    "\n",
    "compute_mass_i(energy[0], px[0], py[0], pz[0])"
   ]
  },
  {
   "cell_type": "code",
   "execution_count": 13,
   "metadata": {},
   "outputs": [
    {
     "name": "stdout",
     "output_type": "stream",
     "text": [
      "789 ms ± 24.2 ms per loop (mean ± std. dev. of 7 runs, 1 loop each)\n"
     ]
    }
   ],
   "source": [
    "%%timeit\n",
    "\n",
    "mass = np.empty(len(energy))\n",
    "for i in range(len(energy)):\n",
    "    mass[i] = compute_mass_i(energy[i], px[i], py[i], pz[i])"
   ]
  },
  {
   "cell_type": "markdown",
   "metadata": {},
   "source": [
    "What do you think about this one?"
   ]
  },
  {
   "cell_type": "code",
   "execution_count": 14,
   "metadata": {},
   "outputs": [
    {
     "data": {
      "text/plain": [
       "array([102.52544721,  99.6333991 , 109.71246135, ...,  86.76466324,\n",
       "        96.45253913,  99.89977107])"
      ]
     },
     "execution_count": 14,
     "metadata": {},
     "output_type": "execute_result"
    }
   ],
   "source": [
    "@nb.njit\n",
    "def compute_mass_arrays(energy, px, py, pz):\n",
    "    return np.sqrt(energy**2 - px**2 - py**2 - pz**2)\n",
    "\n",
    "compute_mass_arrays(energy, px, py, pz)"
   ]
  },
  {
   "cell_type": "code",
   "execution_count": 15,
   "metadata": {},
   "outputs": [
    {
     "name": "stdout",
     "output_type": "stream",
     "text": [
      "2.35 ms ± 180 µs per loop (mean ± std. dev. of 7 runs, 100 loops each)\n"
     ]
    }
   ],
   "source": [
    "%%timeit\n",
    "\n",
    "mass = compute_mass_arrays(energy, px, py, pz)"
   ]
  },
  {
   "cell_type": "markdown",
   "metadata": {},
   "source": [
    "_(Note to self: show `nb.vectorize`.)_"
   ]
  },
  {
   "cell_type": "markdown",
   "metadata": {},
   "source": [
    "## Types matter!\n",
    "\n",
    "### Dynamically typed programs that are not statically typed\n",
    "\n",
    "Much of Python's flexibility comes from the fact that it does not need to know the types of all variables before it starts to run.\n",
    "\n",
    "That dynamism makes it easier to express complex logic (what I call \"bookkeeping\"), but it is a hurdle for speed. Dynamic typing was the first thing to go in Didier Verna's _How to make LISP go faster than C_."
   ]
  },
  {
   "cell_type": "code",
   "execution_count": 16,
   "metadata": {},
   "outputs": [],
   "source": [
    "def perfectly_valid_script(data):\n",
    "    output = np.empty(len(data))\n",
    "    for i, group in enumerate(data):\n",
    "        minimum = \"nothing yet\"\n",
    "        for x in group:\n",
    "            if minimum == \"nothing yet\":\n",
    "                minimum = x\n",
    "            elif x < minimum:\n",
    "                minimum = x\n",
    "        output[i] = minimum\n",
    "    return output"
   ]
  },
  {
   "cell_type": "code",
   "execution_count": 17,
   "metadata": {},
   "outputs": [
    {
     "data": {
      "text/plain": [
       "array([[3.15127999, 0.39407033, 2.40792158],\n",
       "       [2.4719327 , 1.951657  , 1.19690607],\n",
       "       [1.50390663, 2.6622091 , 1.33609662],\n",
       "       ...,\n",
       "       [1.64232371, 1.97757591, 3.66571519],\n",
       "       [0.45069564, 1.97901781, 0.73951216],\n",
       "       [4.11026688, 2.44254492, 3.55893654]])"
      ]
     },
     "execution_count": 17,
     "metadata": {},
     "output_type": "execute_result"
    }
   ],
   "source": [
    "data = np.random.normal(2, 1, (100000, 3))\n",
    "data"
   ]
  },
  {
   "cell_type": "code",
   "execution_count": 18,
   "metadata": {},
   "outputs": [
    {
     "data": {
      "text/plain": [
       "array([0.39407033, 1.19690607, 1.33609662, ..., 1.64232371, 0.45069564,\n",
       "       2.44254492])"
      ]
     },
     "execution_count": 18,
     "metadata": {},
     "output_type": "execute_result"
    }
   ],
   "source": [
    "perfectly_valid_script(data)"
   ]
  },
  {
   "cell_type": "code",
   "execution_count": 19,
   "metadata": {},
   "outputs": [],
   "source": [
    "invalid_for_numba = nb.njit(perfectly_valid_script)"
   ]
  },
  {
   "cell_type": "code",
   "execution_count": 20,
   "metadata": {
    "tags": [
     "raises-exception"
    ]
   },
   "outputs": [
    {
     "ename": "TypingError",
     "evalue": "Failed in nopython mode pipeline (step: nopython frontend)\n\u001b[1m\u001b[1mNo implementation of function Function(<built-in function lt>) found for signature:\n \n >>> lt(float64, Literal[str](nothing yet))\n \nThere are 22 candidate implementations:\n\u001b[1m  - Of which 20 did not match due to:\n  Overload of function 'lt': File: <numerous>: Line N/A.\n    With argument(s): '(float64, unicode_type)':\u001b[0m\n\u001b[1m   No match.\u001b[0m\n\u001b[1m  - Of which 2 did not match due to:\n  Operator Overload in function 'lt': File: unknown: Line unknown.\n    With argument(s): '(float64, unicode_type)':\u001b[0m\n\u001b[1m   No match for registered cases:\n    * (bool, bool) -> bool\n    * (int8, int8) -> bool\n    * (int16, int16) -> bool\n    * (int32, int32) -> bool\n    * (int64, int64) -> bool\n    * (uint8, uint8) -> bool\n    * (uint16, uint16) -> bool\n    * (uint32, uint32) -> bool\n    * (uint64, uint64) -> bool\n    * (float32, float32) -> bool\n    * (float64, float64) -> bool\u001b[0m\n\u001b[0m\n\u001b[0m\u001b[1mDuring: typing of intrinsic-call at <ipython-input-16-17299725d0ad> (8)\u001b[0m\n\u001b[1m\nFile \"<ipython-input-16-17299725d0ad>\", line 8:\u001b[0m\n\u001b[1mdef perfectly_valid_script(data):\n    <source elided>\n                minimum = x\n\u001b[1m            elif x < minimum:\n\u001b[0m            \u001b[1m^\u001b[0m\u001b[0m\n",
     "output_type": "error",
     "traceback": [
      "\u001b[0;31m---------------------------------------------------------------------------\u001b[0m",
      "\u001b[0;31mTypingError\u001b[0m                               Traceback (most recent call last)",
      "\u001b[0;32m<ipython-input-20-4dbff37f64a1>\u001b[0m in \u001b[0;36m<module>\u001b[0;34m\u001b[0m\n\u001b[0;32m----> 1\u001b[0;31m \u001b[0minvalid_for_numba\u001b[0m\u001b[0;34m(\u001b[0m\u001b[0mdata\u001b[0m\u001b[0;34m)\u001b[0m\u001b[0;34m\u001b[0m\u001b[0;34m\u001b[0m\u001b[0m\n\u001b[0m",
      "\u001b[0;32m~/miniconda3/lib/python3.8/site-packages/numba/core/dispatcher.py\u001b[0m in \u001b[0;36m_compile_for_args\u001b[0;34m(self, *args, **kws)\u001b[0m\n\u001b[1;32m    412\u001b[0m                 \u001b[0me\u001b[0m\u001b[0;34m.\u001b[0m\u001b[0mpatch_message\u001b[0m\u001b[0;34m(\u001b[0m\u001b[0mmsg\u001b[0m\u001b[0;34m)\u001b[0m\u001b[0;34m\u001b[0m\u001b[0;34m\u001b[0m\u001b[0m\n\u001b[1;32m    413\u001b[0m \u001b[0;34m\u001b[0m\u001b[0m\n\u001b[0;32m--> 414\u001b[0;31m             \u001b[0merror_rewrite\u001b[0m\u001b[0;34m(\u001b[0m\u001b[0me\u001b[0m\u001b[0;34m,\u001b[0m \u001b[0;34m'typing'\u001b[0m\u001b[0;34m)\u001b[0m\u001b[0;34m\u001b[0m\u001b[0;34m\u001b[0m\u001b[0m\n\u001b[0m\u001b[1;32m    415\u001b[0m         \u001b[0;32mexcept\u001b[0m \u001b[0merrors\u001b[0m\u001b[0;34m.\u001b[0m\u001b[0mUnsupportedError\u001b[0m \u001b[0;32mas\u001b[0m \u001b[0me\u001b[0m\u001b[0;34m:\u001b[0m\u001b[0;34m\u001b[0m\u001b[0;34m\u001b[0m\u001b[0m\n\u001b[1;32m    416\u001b[0m             \u001b[0;31m# Something unsupported is present in the user code, add help info\u001b[0m\u001b[0;34m\u001b[0m\u001b[0;34m\u001b[0m\u001b[0;34m\u001b[0m\u001b[0m\n",
      "\u001b[0;32m~/miniconda3/lib/python3.8/site-packages/numba/core/dispatcher.py\u001b[0m in \u001b[0;36merror_rewrite\u001b[0;34m(e, issue_type)\u001b[0m\n\u001b[1;32m    355\u001b[0m                 \u001b[0;32mraise\u001b[0m \u001b[0me\u001b[0m\u001b[0;34m\u001b[0m\u001b[0;34m\u001b[0m\u001b[0m\n\u001b[1;32m    356\u001b[0m             \u001b[0;32melse\u001b[0m\u001b[0;34m:\u001b[0m\u001b[0;34m\u001b[0m\u001b[0;34m\u001b[0m\u001b[0m\n\u001b[0;32m--> 357\u001b[0;31m                 \u001b[0;32mraise\u001b[0m \u001b[0me\u001b[0m\u001b[0;34m.\u001b[0m\u001b[0mwith_traceback\u001b[0m\u001b[0;34m(\u001b[0m\u001b[0;32mNone\u001b[0m\u001b[0;34m)\u001b[0m\u001b[0;34m\u001b[0m\u001b[0;34m\u001b[0m\u001b[0m\n\u001b[0m\u001b[1;32m    358\u001b[0m \u001b[0;34m\u001b[0m\u001b[0m\n\u001b[1;32m    359\u001b[0m         \u001b[0margtypes\u001b[0m \u001b[0;34m=\u001b[0m \u001b[0;34m[\u001b[0m\u001b[0;34m]\u001b[0m\u001b[0;34m\u001b[0m\u001b[0;34m\u001b[0m\u001b[0m\n",
      "\u001b[0;31mTypingError\u001b[0m: Failed in nopython mode pipeline (step: nopython frontend)\n\u001b[1m\u001b[1mNo implementation of function Function(<built-in function lt>) found for signature:\n \n >>> lt(float64, Literal[str](nothing yet))\n \nThere are 22 candidate implementations:\n\u001b[1m  - Of which 20 did not match due to:\n  Overload of function 'lt': File: <numerous>: Line N/A.\n    With argument(s): '(float64, unicode_type)':\u001b[0m\n\u001b[1m   No match.\u001b[0m\n\u001b[1m  - Of which 2 did not match due to:\n  Operator Overload in function 'lt': File: unknown: Line unknown.\n    With argument(s): '(float64, unicode_type)':\u001b[0m\n\u001b[1m   No match for registered cases:\n    * (bool, bool) -> bool\n    * (int8, int8) -> bool\n    * (int16, int16) -> bool\n    * (int32, int32) -> bool\n    * (int64, int64) -> bool\n    * (uint8, uint8) -> bool\n    * (uint16, uint16) -> bool\n    * (uint32, uint32) -> bool\n    * (uint64, uint64) -> bool\n    * (float32, float32) -> bool\n    * (float64, float64) -> bool\u001b[0m\n\u001b[0m\n\u001b[0m\u001b[1mDuring: typing of intrinsic-call at <ipython-input-16-17299725d0ad> (8)\u001b[0m\n\u001b[1m\nFile \"<ipython-input-16-17299725d0ad>\", line 8:\u001b[0m\n\u001b[1mdef perfectly_valid_script(data):\n    <source elided>\n                minimum = x\n\u001b[1m            elif x < minimum:\n\u001b[0m            \u001b[1m^\u001b[0m\u001b[0m\n"
     ]
    }
   ],
   "source": [
    "invalid_for_numba(data)"
   ]
  },
  {
   "cell_type": "markdown",
   "metadata": {},
   "source": [
    "How can we fix it up?"
   ]
  },
  {
   "cell_type": "markdown",
   "metadata": {},
   "source": [
    "### What is \"type unification?\"\n",
    "\n",
    "Consider the following:"
   ]
  },
  {
   "cell_type": "code",
   "execution_count": 21,
   "metadata": {},
   "outputs": [],
   "source": [
    "def another_valid_script(data):\n",
    "    output = np.empty(len(data))\n",
    "    for i, group in enumerate(data):\n",
    "        total = np.sum(group)\n",
    "        if total < 0:\n",
    "            return \"we don't like negative sums\"\n",
    "        else:\n",
    "            output[i] = total\n",
    "    return output"
   ]
  },
  {
   "cell_type": "code",
   "execution_count": 22,
   "metadata": {},
   "outputs": [
    {
     "data": {
      "text/plain": [
       "array([5.95327189, 5.62049577, 5.50221235, 5.64634391, 4.34770178,\n",
       "       6.03129462, 3.79146602, 6.91879592, 9.54459418, 4.55619239])"
      ]
     },
     "execution_count": 22,
     "metadata": {},
     "output_type": "execute_result"
    }
   ],
   "source": [
    "another_valid_script(data[:10])"
   ]
  },
  {
   "cell_type": "code",
   "execution_count": 23,
   "metadata": {},
   "outputs": [],
   "source": [
    "invalid_for_numba = nb.njit(another_valid_script)"
   ]
  },
  {
   "cell_type": "code",
   "execution_count": 24,
   "metadata": {
    "tags": [
     "raises-exception"
    ]
   },
   "outputs": [
    {
     "ename": "TypingError",
     "evalue": "Failed in nopython mode pipeline (step: nopython frontend)\n\u001b[1mCan't unify return type from the following types: Literal[str](we don't like negative sums), array(float64, 1d, C)\n\u001b[1mReturn of: IR name '$54return_value.2', type 'Literal[str](we don't like negative sums)', location: \u001b[1m\nFile \"<ipython-input-21-dade312fbc5a>\", line 6:\u001b[0m\n\u001b[1mdef another_valid_script(data):\n    <source elided>\n        if total < 0:\n\u001b[1m            return \"we don't like negative sums\"\n\u001b[0m            \u001b[1m^\u001b[0m\u001b[0m\u001b[0m\n\u001b[1mReturn of: IR name '$68return_value.1', type 'array(float64, 1d, C)', location: \u001b[1m\nFile \"<ipython-input-21-dade312fbc5a>\", line 9:\u001b[0m\n\u001b[1mdef another_valid_script(data):\n    <source elided>\n            output[i] = total\n\u001b[1m    return output\n\u001b[0m    \u001b[1m^\u001b[0m\u001b[0m\u001b[0m\u001b[0m",
     "output_type": "error",
     "traceback": [
      "\u001b[0;31m---------------------------------------------------------------------------\u001b[0m",
      "\u001b[0;31mTypingError\u001b[0m                               Traceback (most recent call last)",
      "\u001b[0;32m<ipython-input-24-4dbff37f64a1>\u001b[0m in \u001b[0;36m<module>\u001b[0;34m\u001b[0m\n\u001b[0;32m----> 1\u001b[0;31m \u001b[0minvalid_for_numba\u001b[0m\u001b[0;34m(\u001b[0m\u001b[0mdata\u001b[0m\u001b[0;34m)\u001b[0m\u001b[0;34m\u001b[0m\u001b[0;34m\u001b[0m\u001b[0m\n\u001b[0m",
      "\u001b[0;32m~/miniconda3/lib/python3.8/site-packages/numba/core/dispatcher.py\u001b[0m in \u001b[0;36m_compile_for_args\u001b[0;34m(self, *args, **kws)\u001b[0m\n\u001b[1;32m    412\u001b[0m                 \u001b[0me\u001b[0m\u001b[0;34m.\u001b[0m\u001b[0mpatch_message\u001b[0m\u001b[0;34m(\u001b[0m\u001b[0mmsg\u001b[0m\u001b[0;34m)\u001b[0m\u001b[0;34m\u001b[0m\u001b[0;34m\u001b[0m\u001b[0m\n\u001b[1;32m    413\u001b[0m \u001b[0;34m\u001b[0m\u001b[0m\n\u001b[0;32m--> 414\u001b[0;31m             \u001b[0merror_rewrite\u001b[0m\u001b[0;34m(\u001b[0m\u001b[0me\u001b[0m\u001b[0;34m,\u001b[0m \u001b[0;34m'typing'\u001b[0m\u001b[0;34m)\u001b[0m\u001b[0;34m\u001b[0m\u001b[0;34m\u001b[0m\u001b[0m\n\u001b[0m\u001b[1;32m    415\u001b[0m         \u001b[0;32mexcept\u001b[0m \u001b[0merrors\u001b[0m\u001b[0;34m.\u001b[0m\u001b[0mUnsupportedError\u001b[0m \u001b[0;32mas\u001b[0m \u001b[0me\u001b[0m\u001b[0;34m:\u001b[0m\u001b[0;34m\u001b[0m\u001b[0;34m\u001b[0m\u001b[0m\n\u001b[1;32m    416\u001b[0m             \u001b[0;31m# Something unsupported is present in the user code, add help info\u001b[0m\u001b[0;34m\u001b[0m\u001b[0;34m\u001b[0m\u001b[0;34m\u001b[0m\u001b[0m\n",
      "\u001b[0;32m~/miniconda3/lib/python3.8/site-packages/numba/core/dispatcher.py\u001b[0m in \u001b[0;36merror_rewrite\u001b[0;34m(e, issue_type)\u001b[0m\n\u001b[1;32m    355\u001b[0m                 \u001b[0;32mraise\u001b[0m \u001b[0me\u001b[0m\u001b[0;34m\u001b[0m\u001b[0;34m\u001b[0m\u001b[0m\n\u001b[1;32m    356\u001b[0m             \u001b[0;32melse\u001b[0m\u001b[0;34m:\u001b[0m\u001b[0;34m\u001b[0m\u001b[0;34m\u001b[0m\u001b[0m\n\u001b[0;32m--> 357\u001b[0;31m                 \u001b[0;32mraise\u001b[0m \u001b[0me\u001b[0m\u001b[0;34m.\u001b[0m\u001b[0mwith_traceback\u001b[0m\u001b[0;34m(\u001b[0m\u001b[0;32mNone\u001b[0m\u001b[0;34m)\u001b[0m\u001b[0;34m\u001b[0m\u001b[0;34m\u001b[0m\u001b[0m\n\u001b[0m\u001b[1;32m    358\u001b[0m \u001b[0;34m\u001b[0m\u001b[0m\n\u001b[1;32m    359\u001b[0m         \u001b[0margtypes\u001b[0m \u001b[0;34m=\u001b[0m \u001b[0;34m[\u001b[0m\u001b[0;34m]\u001b[0m\u001b[0;34m\u001b[0m\u001b[0;34m\u001b[0m\u001b[0m\n",
      "\u001b[0;31mTypingError\u001b[0m: Failed in nopython mode pipeline (step: nopython frontend)\n\u001b[1mCan't unify return type from the following types: Literal[str](we don't like negative sums), array(float64, 1d, C)\n\u001b[1mReturn of: IR name '$54return_value.2', type 'Literal[str](we don't like negative sums)', location: \u001b[1m\nFile \"<ipython-input-21-dade312fbc5a>\", line 6:\u001b[0m\n\u001b[1mdef another_valid_script(data):\n    <source elided>\n        if total < 0:\n\u001b[1m            return \"we don't like negative sums\"\n\u001b[0m            \u001b[1m^\u001b[0m\u001b[0m\u001b[0m\n\u001b[1mReturn of: IR name '$68return_value.1', type 'array(float64, 1d, C)', location: \u001b[1m\nFile \"<ipython-input-21-dade312fbc5a>\", line 9:\u001b[0m\n\u001b[1mdef another_valid_script(data):\n    <source elided>\n            output[i] = total\n\u001b[1m    return output\n\u001b[0m    \u001b[1m^\u001b[0m\u001b[0m\u001b[0m\u001b[0m"
     ]
    }
   ],
   "source": [
    "invalid_for_numba(data)"
   ]
  },
  {
   "cell_type": "markdown",
   "metadata": {},
   "source": [
    "Does it matter whether we limit `data` to the first 10 elements?\n",
    "\n",
    "How can we fix it up?"
   ]
  },
  {
   "cell_type": "markdown",
   "metadata": {},
   "source": [
    "### Avoid lists and dicts\n",
    "\n",
    "Although Numba developers are doing a lot of work on supporting Python `list` and `dict` (of identically typed contents), I find it to be too easy to run into unsupported cases. The main problem is that their contents _must_ be typed, but the Python language didn't have ways to express types.\n",
    "\n",
    "(Yes, Python has type annotations now, but they're not fully integrated into Numba yet.)\n",
    "\n",
    "Let's start with something that works and make small changes to it."
   ]
  },
  {
   "cell_type": "code",
   "execution_count": 48,
   "metadata": {},
   "outputs": [],
   "source": [
    "@nb.njit\n",
    "def output_a_list(data):\n",
    "    output = []\n",
    "    for group in data:\n",
    "        total = 0.0\n",
    "        for x in group:\n",
    "            total += x\n",
    "        output.append(total)\n",
    "    return output"
   ]
  },
  {
   "cell_type": "code",
   "execution_count": 51,
   "metadata": {},
   "outputs": [
    {
     "data": {
      "text/plain": [
       "array([[ 0.95598489,  3.31140722,  1.79358308],\n",
       "       [ 2.27913826,  0.81978631,  2.79319435],\n",
       "       [ 1.92183806,  3.8611939 ,  2.04272215],\n",
       "       [ 0.62488518,  3.48649249,  1.44912967],\n",
       "       [ 2.12085548,  3.66397727, -0.0990048 ],\n",
       "       [ 4.02775381,  1.55623024,  2.93972499],\n",
       "       [ 1.65313006,  1.43999003,  1.94078311],\n",
       "       [ 3.482674  , -0.1964865 ,  2.04161286],\n",
       "       [ 2.010127  ,  1.10942775,  2.89436227],\n",
       "       [ 1.46269584,  3.7490703 ,  3.04671471]])"
      ]
     },
     "execution_count": 51,
     "metadata": {},
     "output_type": "execute_result"
    }
   ],
   "source": [
    "data = np.random.normal(2, 1, (10, 3))\n",
    "data"
   ]
  },
  {
   "cell_type": "code",
   "execution_count": 52,
   "metadata": {},
   "outputs": [
    {
     "data": {
      "text/plain": [
       "[6.060975199235453,\n",
       " 5.892118921096655,\n",
       " 7.825754101258172,\n",
       " 5.560507332144437,\n",
       " 5.685827949831095,\n",
       " 8.52370904297949,\n",
       " 5.033903196524288,\n",
       " 5.327800353699507,\n",
       " 6.013917015164047,\n",
       " 8.258480847563252]"
      ]
     },
     "execution_count": 52,
     "metadata": {},
     "output_type": "execute_result"
    }
   ],
   "source": [
    "output_a_list(data)"
   ]
  },
  {
   "cell_type": "markdown",
   "metadata": {},
   "source": [
    "### Closures versus arguments\n",
    "\n",
    "In Python, you can create functions at runtime, and these functions can reference data defined outside of the function."
   ]
  },
  {
   "cell_type": "code",
   "execution_count": 28,
   "metadata": {},
   "outputs": [],
   "source": [
    "accumulate = nb.typed.List([])\n",
    "\n",
    "def yet_another_valid_script(data):\n",
    "    for group in data:\n",
    "        total = 0.0\n",
    "        for x in group:\n",
    "            total += x\n",
    "        accumulate.append(total)"
   ]
  },
  {
   "cell_type": "code",
   "execution_count": 29,
   "metadata": {},
   "outputs": [
    {
     "data": {
      "text/plain": [
       "ListType[Undefined]([])"
      ]
     },
     "execution_count": 29,
     "metadata": {},
     "output_type": "execute_result"
    }
   ],
   "source": [
    "accumulate"
   ]
  },
  {
   "cell_type": "code",
   "execution_count": 30,
   "metadata": {},
   "outputs": [],
   "source": [
    "yet_another_valid_script(data)"
   ]
  },
  {
   "cell_type": "code",
   "execution_count": 31,
   "metadata": {},
   "outputs": [
    {
     "data": {
      "text/plain": [
       "ListType[float64]([5.5682422577706365, 4.667006503512932, 6.000827124822459, 7.662138716429409, 2.9710870225622283, 7.996927518540405, 5.454419989342256, 5.179224328118463, 6.1410842988971, 5.316298015049456])"
      ]
     },
     "execution_count": 31,
     "metadata": {},
     "output_type": "execute_result"
    }
   ],
   "source": [
    "accumulate"
   ]
  },
  {
   "cell_type": "code",
   "execution_count": 32,
   "metadata": {},
   "outputs": [],
   "source": [
    "try_it_in_numba = nb.njit(yet_another_valid_script)"
   ]
  },
  {
   "cell_type": "code",
   "execution_count": 33,
   "metadata": {
    "tags": [
     "raises-exception"
    ]
   },
   "outputs": [
    {
     "ename": "TypingError",
     "evalue": "Failed in nopython mode pipeline (step: ensure IR is legal prior to lowering)\n\u001b[1mThe use of a ListType[float64] type, assigned to variable 'accumulate' in globals, is not supported as globals are considered compile-time constants and there is no known way to compile a ListType[float64] type as a constant.\n\u001b[1m\nFile \"<ipython-input-28-725ca9e5f929>\", line 8:\u001b[0m\n\u001b[1mdef yet_another_valid_script(data):\n    <source elided>\n            total += x\n\u001b[1m        accumulate.append(total)\n\u001b[0m        \u001b[1m^\u001b[0m\u001b[0m\n\u001b[0m",
     "output_type": "error",
     "traceback": [
      "\u001b[0;31m---------------------------------------------------------------------------\u001b[0m",
      "\u001b[0;31mTypingError\u001b[0m                               Traceback (most recent call last)",
      "\u001b[0;32m<ipython-input-33-2c73d90bc722>\u001b[0m in \u001b[0;36m<module>\u001b[0;34m\u001b[0m\n\u001b[0;32m----> 1\u001b[0;31m \u001b[0mtry_it_in_numba\u001b[0m\u001b[0;34m(\u001b[0m\u001b[0mdata\u001b[0m\u001b[0;34m)\u001b[0m\u001b[0;34m\u001b[0m\u001b[0;34m\u001b[0m\u001b[0m\n\u001b[0m",
      "\u001b[0;32m~/miniconda3/lib/python3.8/site-packages/numba/core/dispatcher.py\u001b[0m in \u001b[0;36m_compile_for_args\u001b[0;34m(self, *args, **kws)\u001b[0m\n\u001b[1;32m    412\u001b[0m                 \u001b[0me\u001b[0m\u001b[0;34m.\u001b[0m\u001b[0mpatch_message\u001b[0m\u001b[0;34m(\u001b[0m\u001b[0mmsg\u001b[0m\u001b[0;34m)\u001b[0m\u001b[0;34m\u001b[0m\u001b[0;34m\u001b[0m\u001b[0m\n\u001b[1;32m    413\u001b[0m \u001b[0;34m\u001b[0m\u001b[0m\n\u001b[0;32m--> 414\u001b[0;31m             \u001b[0merror_rewrite\u001b[0m\u001b[0;34m(\u001b[0m\u001b[0me\u001b[0m\u001b[0;34m,\u001b[0m \u001b[0;34m'typing'\u001b[0m\u001b[0;34m)\u001b[0m\u001b[0;34m\u001b[0m\u001b[0;34m\u001b[0m\u001b[0m\n\u001b[0m\u001b[1;32m    415\u001b[0m         \u001b[0;32mexcept\u001b[0m \u001b[0merrors\u001b[0m\u001b[0;34m.\u001b[0m\u001b[0mUnsupportedError\u001b[0m \u001b[0;32mas\u001b[0m \u001b[0me\u001b[0m\u001b[0;34m:\u001b[0m\u001b[0;34m\u001b[0m\u001b[0;34m\u001b[0m\u001b[0m\n\u001b[1;32m    416\u001b[0m             \u001b[0;31m# Something unsupported is present in the user code, add help info\u001b[0m\u001b[0;34m\u001b[0m\u001b[0;34m\u001b[0m\u001b[0;34m\u001b[0m\u001b[0m\n",
      "\u001b[0;32m~/miniconda3/lib/python3.8/site-packages/numba/core/dispatcher.py\u001b[0m in \u001b[0;36merror_rewrite\u001b[0;34m(e, issue_type)\u001b[0m\n\u001b[1;32m    355\u001b[0m                 \u001b[0;32mraise\u001b[0m \u001b[0me\u001b[0m\u001b[0;34m\u001b[0m\u001b[0;34m\u001b[0m\u001b[0m\n\u001b[1;32m    356\u001b[0m             \u001b[0;32melse\u001b[0m\u001b[0;34m:\u001b[0m\u001b[0;34m\u001b[0m\u001b[0;34m\u001b[0m\u001b[0m\n\u001b[0;32m--> 357\u001b[0;31m                 \u001b[0;32mraise\u001b[0m \u001b[0me\u001b[0m\u001b[0;34m.\u001b[0m\u001b[0mwith_traceback\u001b[0m\u001b[0;34m(\u001b[0m\u001b[0;32mNone\u001b[0m\u001b[0;34m)\u001b[0m\u001b[0;34m\u001b[0m\u001b[0;34m\u001b[0m\u001b[0m\n\u001b[0m\u001b[1;32m    358\u001b[0m \u001b[0;34m\u001b[0m\u001b[0m\n\u001b[1;32m    359\u001b[0m         \u001b[0margtypes\u001b[0m \u001b[0;34m=\u001b[0m \u001b[0;34m[\u001b[0m\u001b[0;34m]\u001b[0m\u001b[0;34m\u001b[0m\u001b[0;34m\u001b[0m\u001b[0m\n",
      "\u001b[0;31mTypingError\u001b[0m: Failed in nopython mode pipeline (step: ensure IR is legal prior to lowering)\n\u001b[1mThe use of a ListType[float64] type, assigned to variable 'accumulate' in globals, is not supported as globals are considered compile-time constants and there is no known way to compile a ListType[float64] type as a constant.\n\u001b[1m\nFile \"<ipython-input-28-725ca9e5f929>\", line 8:\u001b[0m\n\u001b[1mdef yet_another_valid_script(data):\n    <source elided>\n            total += x\n\u001b[1m        accumulate.append(total)\n\u001b[0m        \u001b[1m^\u001b[0m\u001b[0m\n\u001b[0m"
     ]
    }
   ],
   "source": [
    "try_it_in_numba(data)"
   ]
  },
  {
   "cell_type": "code",
   "execution_count": null,
   "metadata": {},
   "outputs": [],
   "source": [
    "accumulate"
   ]
  },
  {
   "cell_type": "markdown",
   "metadata": {},
   "source": [
    "### Functions calling functions\n",
    "\n",
    "The `@nb.njit` decorator brackets a region of code to make fast. But that doesn't mean you need to write monolithic functions; JIT'ed functions can be rapidly executed within other JIT'ed functions."
   ]
  },
  {
   "cell_type": "code",
   "execution_count": 70,
   "metadata": {},
   "outputs": [],
   "source": [
    "@nb.njit\n",
    "def find_minimum(group):\n",
    "    out = None\n",
    "    for x in group:\n",
    "        if out is None:\n",
    "            out = x\n",
    "        elif x < out:\n",
    "            out = x\n",
    "    return out"
   ]
  },
  {
   "cell_type": "code",
   "execution_count": 71,
   "metadata": {},
   "outputs": [],
   "source": [
    "@nb.njit\n",
    "def run_over_all(data):\n",
    "    out = np.empty(len(data))\n",
    "    for i, group in enumerate(data):\n",
    "        out[i] = find_minimum(group)\n",
    "    return out"
   ]
  },
  {
   "cell_type": "code",
   "execution_count": 72,
   "metadata": {},
   "outputs": [
    {
     "data": {
      "text/plain": [
       "array([[1.36017057, 1.30274139, 1.27922324],\n",
       "       [1.43282889, 0.96010922, 2.39008941],\n",
       "       [3.11312149, 3.75215365, 2.04939373],\n",
       "       ...,\n",
       "       [0.89504617, 1.55006642, 2.70655948],\n",
       "       [2.3303123 , 1.21097414, 1.78995369],\n",
       "       [1.68926693, 2.13946256, 0.29343878]])"
      ]
     },
     "execution_count": 72,
     "metadata": {},
     "output_type": "execute_result"
    }
   ],
   "source": [
    "data = np.random.normal(2, 1, (1000000, 3))\n",
    "data"
   ]
  },
  {
   "cell_type": "code",
   "execution_count": 73,
   "metadata": {},
   "outputs": [
    {
     "data": {
      "text/plain": [
       "array([1.27922324, 0.96010922, 2.04939373, ..., 0.89504617, 1.21097414,\n",
       "       0.29343878])"
      ]
     },
     "execution_count": 73,
     "metadata": {},
     "output_type": "execute_result"
    }
   ],
   "source": [
    "run_over_all(data)"
   ]
  },
  {
   "cell_type": "code",
   "execution_count": 74,
   "metadata": {},
   "outputs": [
    {
     "name": "stdout",
     "output_type": "stream",
     "text": [
      "13.5 ms ± 146 µs per loop (mean ± std. dev. of 7 runs, 100 loops each)\n"
     ]
    }
   ],
   "source": [
    "%%timeit\n",
    "\n",
    "run_over_all(data)"
   ]
  },
  {
   "cell_type": "markdown",
   "metadata": {},
   "source": [
    "### Functional functions\n",
    "\n",
    "A JIT'ed function can also be _passed into_ a JIT'ed function as an argument. Same constraints apply."
   ]
  },
  {
   "cell_type": "code",
   "execution_count": 75,
   "metadata": {},
   "outputs": [],
   "source": [
    "@nb.njit\n",
    "def run_over_all(do_what, data):\n",
    "    out = np.empty(len(data))\n",
    "    for i, group in enumerate(data):\n",
    "        out[i] = do_what(group)\n",
    "    return out"
   ]
  },
  {
   "cell_type": "code",
   "execution_count": 76,
   "metadata": {},
   "outputs": [
    {
     "data": {
      "text/plain": [
       "array([1.27922324, 0.96010922, 2.04939373, ..., 0.89504617, 1.21097414,\n",
       "       0.29343878])"
      ]
     },
     "execution_count": 76,
     "metadata": {},
     "output_type": "execute_result"
    }
   ],
   "source": [
    "run_over_all(find_minimum, data)"
   ]
  },
  {
   "cell_type": "code",
   "execution_count": 77,
   "metadata": {},
   "outputs": [
    {
     "name": "stdout",
     "output_type": "stream",
     "text": [
      "13.7 ms ± 61.8 µs per loop (mean ± std. dev. of 7 runs, 100 loops each)\n"
     ]
    }
   ],
   "source": [
    "%%timeit\n",
    "\n",
    "run_over_all(find_minimum, data)"
   ]
  },
  {
   "cell_type": "markdown",
   "metadata": {},
   "source": [
    "What about functions _returning_ functions?"
   ]
  },
  {
   "cell_type": "code",
   "execution_count": 80,
   "metadata": {},
   "outputs": [],
   "source": [
    "@nb.njit\n",
    "def function_returning_a_function():\n",
    "    def what_the_heck(x):\n",
    "        return x + 1\n",
    "    return what_the_heck"
   ]
  },
  {
   "cell_type": "code",
   "execution_count": 82,
   "metadata": {},
   "outputs": [
    {
     "data": {
      "text/plain": [
       "CPUDispatcher(<function g.<locals>.f at 0x7f5dd97760d0>)"
      ]
     },
     "execution_count": 82,
     "metadata": {},
     "output_type": "execute_result"
    }
   ],
   "source": [
    "f = function_returning_a_function()\n",
    "f"
   ]
  },
  {
   "cell_type": "code",
   "execution_count": 83,
   "metadata": {},
   "outputs": [
    {
     "data": {
      "text/plain": [
       "11"
      ]
     },
     "execution_count": 83,
     "metadata": {},
     "output_type": "execute_result"
    }
   ],
   "source": [
    "f(10)"
   ]
  },
  {
   "cell_type": "markdown",
   "metadata": {},
   "source": [
    "But the reason you might want to do this—to make a closure—doesn't work, so I consider this as a curiosity."
   ]
  },
  {
   "cell_type": "code",
   "execution_count": 84,
   "metadata": {},
   "outputs": [],
   "source": [
    "@nb.njit\n",
    "def function_returning_a_function(y):\n",
    "    def what_the_heck(x):\n",
    "        return x + y\n",
    "    return what_the_heck"
   ]
  },
  {
   "cell_type": "code",
   "execution_count": 87,
   "metadata": {
    "tags": [
     "raises-exception"
    ]
   },
   "outputs": [
    {
     "ename": "TypingError",
     "evalue": "Failed in nopython mode pipeline (step: convert make_function into JIT functions)\n\u001b[1mCannot capture the non-constant value associated with variable 'y' in a function that will escape.\n\u001b[1m\nFile \"<ipython-input-84-d716b8b1def2>\", line 3:\u001b[0m\n\u001b[1mdef function_returning_a_function(y):\n\u001b[1m    def what_the_heck(x):\n\u001b[0m    \u001b[1m^\u001b[0m\u001b[0m\n\u001b[0m",
     "output_type": "error",
     "traceback": [
      "\u001b[0;31m---------------------------------------------------------------------------\u001b[0m",
      "\u001b[0;31mTypingError\u001b[0m                               Traceback (most recent call last)",
      "\u001b[0;32m<ipython-input-87-121968120598>\u001b[0m in \u001b[0;36m<module>\u001b[0;34m\u001b[0m\n\u001b[0;32m----> 1\u001b[0;31m \u001b[0mfunction_returning_a_function\u001b[0m\u001b[0;34m(\u001b[0m\u001b[0;36m1\u001b[0m\u001b[0;34m)\u001b[0m\u001b[0;34m\u001b[0m\u001b[0;34m\u001b[0m\u001b[0m\n\u001b[0m",
      "\u001b[0;32m~/miniconda3/lib/python3.8/site-packages/numba/core/dispatcher.py\u001b[0m in \u001b[0;36m_compile_for_args\u001b[0;34m(self, *args, **kws)\u001b[0m\n\u001b[1;32m    412\u001b[0m                 \u001b[0me\u001b[0m\u001b[0;34m.\u001b[0m\u001b[0mpatch_message\u001b[0m\u001b[0;34m(\u001b[0m\u001b[0mmsg\u001b[0m\u001b[0;34m)\u001b[0m\u001b[0;34m\u001b[0m\u001b[0;34m\u001b[0m\u001b[0m\n\u001b[1;32m    413\u001b[0m \u001b[0;34m\u001b[0m\u001b[0m\n\u001b[0;32m--> 414\u001b[0;31m             \u001b[0merror_rewrite\u001b[0m\u001b[0;34m(\u001b[0m\u001b[0me\u001b[0m\u001b[0;34m,\u001b[0m \u001b[0;34m'typing'\u001b[0m\u001b[0;34m)\u001b[0m\u001b[0;34m\u001b[0m\u001b[0;34m\u001b[0m\u001b[0m\n\u001b[0m\u001b[1;32m    415\u001b[0m         \u001b[0;32mexcept\u001b[0m \u001b[0merrors\u001b[0m\u001b[0;34m.\u001b[0m\u001b[0mUnsupportedError\u001b[0m \u001b[0;32mas\u001b[0m \u001b[0me\u001b[0m\u001b[0;34m:\u001b[0m\u001b[0;34m\u001b[0m\u001b[0;34m\u001b[0m\u001b[0m\n\u001b[1;32m    416\u001b[0m             \u001b[0;31m# Something unsupported is present in the user code, add help info\u001b[0m\u001b[0;34m\u001b[0m\u001b[0;34m\u001b[0m\u001b[0;34m\u001b[0m\u001b[0m\n",
      "\u001b[0;32m~/miniconda3/lib/python3.8/site-packages/numba/core/dispatcher.py\u001b[0m in \u001b[0;36merror_rewrite\u001b[0;34m(e, issue_type)\u001b[0m\n\u001b[1;32m    355\u001b[0m                 \u001b[0;32mraise\u001b[0m \u001b[0me\u001b[0m\u001b[0;34m\u001b[0m\u001b[0;34m\u001b[0m\u001b[0m\n\u001b[1;32m    356\u001b[0m             \u001b[0;32melse\u001b[0m\u001b[0;34m:\u001b[0m\u001b[0;34m\u001b[0m\u001b[0;34m\u001b[0m\u001b[0m\n\u001b[0;32m--> 357\u001b[0;31m                 \u001b[0;32mraise\u001b[0m \u001b[0me\u001b[0m\u001b[0;34m.\u001b[0m\u001b[0mwith_traceback\u001b[0m\u001b[0;34m(\u001b[0m\u001b[0;32mNone\u001b[0m\u001b[0;34m)\u001b[0m\u001b[0;34m\u001b[0m\u001b[0;34m\u001b[0m\u001b[0m\n\u001b[0m\u001b[1;32m    358\u001b[0m \u001b[0;34m\u001b[0m\u001b[0m\n\u001b[1;32m    359\u001b[0m         \u001b[0margtypes\u001b[0m \u001b[0;34m=\u001b[0m \u001b[0;34m[\u001b[0m\u001b[0;34m]\u001b[0m\u001b[0;34m\u001b[0m\u001b[0;34m\u001b[0m\u001b[0m\n",
      "\u001b[0;31mTypingError\u001b[0m: Failed in nopython mode pipeline (step: convert make_function into JIT functions)\n\u001b[1mCannot capture the non-constant value associated with variable 'y' in a function that will escape.\n\u001b[1m\nFile \"<ipython-input-84-d716b8b1def2>\", line 3:\u001b[0m\n\u001b[1mdef function_returning_a_function(y):\n\u001b[1m    def what_the_heck(x):\n\u001b[0m    \u001b[1m^\u001b[0m\u001b[0m\n\u001b[0m"
     ]
    }
   ],
   "source": [
    "function_returning_a_function(1)"
   ]
  },
  {
   "cell_type": "markdown",
   "metadata": {},
   "source": [
    "### What about classes?\n",
    "\n",
    "Numba has a whole system for annotating classes to be used in JIT'ed functions: `@nb.jitclass` ([see documentation](https://numba.pydata.org/numba-doc/latest/user/jitclass.html)).\n",
    "\n",
    "However, I rarely use it—you find yourself having to annotate more and more until it doesn't look like Python. The value of Numba is that you can develop quickly without leaving the Python environment. When you're doing something so complex as to need classes, you might want to write a C++ program bound to Python with [pybind11](https://pybind11.readthedocs.io/) or ROOT.\n",
    "\n",
    "But here's a simple one:"
   ]
  },
  {
   "cell_type": "code",
   "execution_count": 174,
   "metadata": {},
   "outputs": [],
   "source": [
    "@nb.experimental.jitclass([\n",
    "    (\"E\", nb.float64),\n",
    "    (\"px\", nb.float64),\n",
    "    (\"py\", nb.float64),\n",
    "    (\"pz\", nb.float64),\n",
    "])\n",
    "class Lorentz:\n",
    "    def __init__(self, E, px, py, pz):\n",
    "        self.E = E\n",
    "        self.px = px\n",
    "        self.py = py\n",
    "        self.pz = pz\n",
    "\n",
    "    @property\n",
    "    def mass(self):\n",
    "        return np.sqrt(self.E**2 - self.px**2 - self.py**2 - self.pz**2)\n",
    "\n",
    "@nb.njit\n",
    "def add_Lorentz(one, two):\n",
    "    return Lorentz(one.E + two.E, one.px + two.px, one.py + two.py, one.pz + two.pz)"
   ]
  },
  {
   "cell_type": "code",
   "execution_count": 179,
   "metadata": {},
   "outputs": [],
   "source": [
    "objects = nb.typed.List([Lorentz(E, px, py, pz) for E, px, py, pz in zip(\n",
    "    np.random.normal(100, 10, 10000),\n",
    "    np.random.normal(0, 10, 10000),\n",
    "    np.random.normal(0, 10, 10000),\n",
    "    np.random.normal(0, 10, 10000),\n",
    ")])"
   ]
  },
  {
   "cell_type": "code",
   "execution_count": 180,
   "metadata": {},
   "outputs": [],
   "source": [
    "@nb.njit\n",
    "def calculate_masses(one, two):\n",
    "    out = np.empty(len(one))\n",
    "    for i in range(len(one)):\n",
    "        out[i] = add_Lorentz(one[i], two[i]).mass\n",
    "    return out"
   ]
  },
  {
   "cell_type": "code",
   "execution_count": 182,
   "metadata": {},
   "outputs": [
    {
     "data": {
      "text/plain": [
       "array([187.05676346, 175.6921173 , 197.39367367, ..., 188.05724023,\n",
       "       177.12639467, 176.38163678])"
      ]
     },
     "execution_count": 182,
     "metadata": {},
     "output_type": "execute_result"
    }
   ],
   "source": [
    "calculate_masses(objects[:5000], objects[5000:])"
   ]
  },
  {
   "cell_type": "markdown",
   "metadata": {},
   "source": [
    "It works, but small deviations from this example hit pickling errors (because Numba passes class objects into low-level ↔ Python conversions by pickling them) and other errors deep in the Numba internals.\n",
    "\n",
    "Iteration over objects easier (and faster) with Awkward Array (see below), which will have Lorentz vector objects defined by the [Vector](https://github.com/scikit-hep/vector) library (in development)."
   ]
  },
  {
   "cell_type": "markdown",
   "metadata": {},
   "source": [
    "## Specializing functions\n",
    "\n",
    "The biggest strength of JIT-compilers is that you can generate the code to compile after you know a lot about the problem.\n",
    "\n",
    "In C++, this is the realm of templates and compile-time metaprogramming. In Numba, it can be an f-string:"
   ]
  },
  {
   "cell_type": "code",
   "execution_count": 187,
   "metadata": {},
   "outputs": [
    {
     "name": "stdout",
     "output_type": "stream",
     "text": [
      "\n",
      "@nb.vectorize\n",
      "def sum_in_quadrature(p0, p1, p2, p3, p4):\n",
      "    # compiled for exactly 5 arguments\n",
      "    return np.sqrt(p0**2 + p1**2 + p2**2 + p3**2 + p4**2)\n",
      "\n"
     ]
    }
   ],
   "source": [
    "args = [\n",
    "    np.random.normal(0, 1, 1000000),\n",
    "    np.random.normal(0, 1, 1000000),\n",
    "    np.random.normal(0, 1, 1000000),\n",
    "    np.random.normal(0, 1, 1000000),\n",
    "    np.random.normal(0, 1, 1000000),\n",
    "]\n",
    "\n",
    "code = f\"\"\"\n",
    "@nb.vectorize\n",
    "def sum_in_quadrature({\", \".join(\"p%d\" % i for i in range(len(args)))}):\n",
    "    # compiled for exactly {len(args)} arguments\n",
    "    return np.sqrt({\" + \".join(\"p%d**2\" % i for i in range(len(args)))})\n",
    "\"\"\"\n",
    "\n",
    "print(code)"
   ]
  },
  {
   "cell_type": "code",
   "execution_count": 188,
   "metadata": {},
   "outputs": [],
   "source": [
    "exec(code)"
   ]
  },
  {
   "cell_type": "code",
   "execution_count": 189,
   "metadata": {},
   "outputs": [
    {
     "data": {
      "text/plain": [
       "array([2.8403486 , 2.27741088, 1.69199654, ..., 1.46661263, 1.5076158 ,\n",
       "       2.41836881])"
      ]
     },
     "execution_count": 189,
     "metadata": {},
     "output_type": "execute_result"
    }
   ],
   "source": [
    "sum_in_quadrature(*args)"
   ]
  },
  {
   "cell_type": "markdown",
   "metadata": {},
   "source": [
    "The point is that you have the full power of Python at your disposal to examine your data and generate code before compiling it, and you don't have to hack together scripts to make source code files before you can use them.\n",
    "\n",
    "Numba has a `@nb.generated_jit` decorator for specializing a function for specific types."
   ]
  },
  {
   "cell_type": "code",
   "execution_count": 194,
   "metadata": {},
   "outputs": [],
   "source": [
    "@nb.generated_jit\n",
    "def add_unmasked(data, mask):\n",
    "    # At this level, data and mask are Numba *types* in plain Python.\n",
    "    if isinstance(mask, nb.types.NoneType):\n",
    "        def implementation(data, mask):\n",
    "            # At this level, data and mask are *values* in a JIT'ed context.\n",
    "            return np.sum(data)\n",
    "        return implementation\n",
    "    else:\n",
    "        def implementation(data, mask):\n",
    "            # The names \"data\" and \"mask\" have to match the outer function.\n",
    "            result = 0\n",
    "            for d, m in zip(data, mask):\n",
    "                if not m:\n",
    "                    result += d\n",
    "            return result\n",
    "        return implementation"
   ]
  },
  {
   "cell_type": "code",
   "execution_count": 208,
   "metadata": {},
   "outputs": [
    {
     "data": {
      "text/plain": [
       "(array([ 1.04332867,  0.24926463, -0.19549085, ..., -3.92769812,\n",
       "        -1.55297017, -1.2654532 ]),\n",
       " array([False, False, False, ..., False, False, False]))"
      ]
     },
     "execution_count": 208,
     "metadata": {},
     "output_type": "execute_result"
    }
   ],
   "source": [
    "data = np.random.normal(0, 1, 1000000)\n",
    "mask = np.random.randint(0, 2, 1000000).view(np.bool_)\n",
    "data, mask"
   ]
  },
  {
   "cell_type": "code",
   "execution_count": 209,
   "metadata": {},
   "outputs": [
    {
     "data": {
      "text/plain": [
       "321.6181910361945"
      ]
     },
     "execution_count": 209,
     "metadata": {},
     "output_type": "execute_result"
    }
   ],
   "source": [
    "add_unmasked(data, mask)"
   ]
  },
  {
   "cell_type": "code",
   "execution_count": 210,
   "metadata": {},
   "outputs": [
    {
     "data": {
      "text/plain": [
       "-231.6161556741977"
      ]
     },
     "execution_count": 210,
     "metadata": {},
     "output_type": "execute_result"
    }
   ],
   "source": [
    "add_unmasked(data, None)"
   ]
  },
  {
   "cell_type": "markdown",
   "metadata": {},
   "source": [
    "## Debugging Numba JIT'ed functions\n",
    "\n",
    "You might argue that my examples are too simple, but that's the best way to use Numba: by merging complex logic into a procedure bit by bit. You only benefit from the \"JIT\" aspect if you're building it up interactively—in a Python terminal, iPython, or a Jupyter notebook.\n",
    "\n",
    "**If your workflow is \"edit script, save, run from the beginning, edit script again,\" then you might as well be using a non-JIT compiler, like C++.**\n",
    "\n",
    "You can figure out how to write a function in one environment and then copy it into the script you'll be submitting to the GRID, you know.\n",
    "\n",
    "**Recommendations:**\n",
    "\n",
    "   * If you're still figuring out the logic of what you want to compute, write pure Python functions.\n",
    "   * If you have an algorithm and want to make it fast, enclose it in a function or a few functions and put `@nb.njit` at the tops of just those functions.\n",
    "   * If that doesn't work, break it down into small pieces and try to `@nb.njit` each one individually.\n",
    "   * There's [documentation on using Numba in gdb](https://numba.pydata.org/numba-doc/latest/user/troubleshoot.html#debugging-jit-compiled-code-with-gdb), but note that `print` works:"
   ]
  },
  {
   "cell_type": "code",
   "execution_count": 211,
   "metadata": {},
   "outputs": [],
   "source": [
    "@nb.njit\n",
    "def do_stuff(data):\n",
    "    for group in data:\n",
    "        print(group)"
   ]
  },
  {
   "cell_type": "code",
   "execution_count": 213,
   "metadata": {},
   "outputs": [
    {
     "data": {
      "text/plain": [
       "array([[ 0.86424368, -1.35816304, -0.51777131],\n",
       "       [-1.51917545,  0.08586805,  0.94563962],\n",
       "       [-0.35078942,  1.62167214, -0.93713669],\n",
       "       ...,\n",
       "       [-1.65014699, -1.04484009,  0.95014528],\n",
       "       [ 0.28536464,  1.41487192, -0.14499178],\n",
       "       [ 0.75161761,  1.04365722,  0.17627768]])"
      ]
     },
     "execution_count": 213,
     "metadata": {},
     "output_type": "execute_result"
    }
   ],
   "source": [
    "data = np.random.normal(0, 1, (1000000, 3))\n",
    "data"
   ]
  },
  {
   "cell_type": "code",
   "execution_count": 214,
   "metadata": {},
   "outputs": [
    {
     "name": "stdout",
     "output_type": "stream",
     "text": [
      "[ 0.86424368 -1.35816304 -0.51777131]\n",
      "[-1.51917545  0.08586805  0.94563962]\n",
      "[-0.35078942  1.62167214 -0.93713669]\n",
      "[-1.2111678   0.65547725  0.57855377]\n",
      "[ 0.96334237 -1.34371725  0.10681792]\n",
      "[-0.3859955   0.14630824 -0.30624752]\n",
      "[0.81276506 1.30407401 2.56914148]\n",
      "[ 0.66880957 -1.21955263 -0.84532021]\n",
      "[-0.15594011 -0.45887374  0.90774915]\n",
      "[ 2.75730885 -0.2843357   0.21809643]\n"
     ]
    }
   ],
   "source": [
    "do_stuff(data[:10])    # not too many!"
   ]
  },
  {
   "cell_type": "markdown",
   "metadata": {},
   "source": [
    "Personally, I wouldn't bother with gdb. I'd just use `print`."
   ]
  },
  {
   "cell_type": "markdown",
   "metadata": {},
   "source": [
    "## Awkward Arrays in Numba\n",
    "\n"
   ]
  }
 ],
 "metadata": {
  "kernelspec": {
   "display_name": "Python 3",
   "language": "python",
   "name": "python3"
  },
  "language_info": {
   "codemirror_mode": {
    "name": "ipython",
    "version": 3
   },
   "file_extension": ".py",
   "mimetype": "text/x-python",
   "name": "python",
   "nbconvert_exporter": "python",
   "pygments_lexer": "ipython3",
   "version": "3.8.6"
  }
 },
 "nbformat": 4,
 "nbformat_minor": 4
}
